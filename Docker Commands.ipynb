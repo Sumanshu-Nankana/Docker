{
 "cells": [
  {
   "cell_type": "markdown",
   "metadata": {},
   "source": [
    "## Docker commands"
   ]
  },
  {
   "cell_type": "markdown",
   "metadata": {},
   "source": [
    "#### To Look at the available container Images"
   ]
  },
  {
   "cell_type": "raw",
   "metadata": {},
   "source": [
    "docker images"
   ]
  },
  {
   "cell_type": "markdown",
   "metadata": {},
   "source": [
    "#### To Look at the running containers"
   ]
  },
  {
   "cell_type": "raw",
   "metadata": {},
   "source": [
    "docker ps"
   ]
  },
  {
   "cell_type": "markdown",
   "metadata": {},
   "source": [
    "#### To see all containers, including ones that have finished executing"
   ]
  },
  {
   "cell_type": "raw",
   "metadata": {},
   "source": [
    "docker ps -a"
   ]
  },
  {
   "cell_type": "markdown",
   "metadata": {},
   "source": [
    "#### To build image from Dockerfile"
   ]
  },
  {
   "cell_type": "raw",
   "metadata": {},
   "source": [
    "docker build -t <image_name>:<tag_name> ."
   ]
  },
  {
   "cell_type": "raw",
   "metadata": {},
   "source": [
    "-t is used to tag the image with name:tag\n",
    "\n",
    "The tag is highly recommended when building Docker images. If you don't specify a tag, the tag will default to latest "
   ]
  },
  {
   "cell_type": "markdown",
   "metadata": {},
   "source": [
    "#### Run containers"
   ]
  },
  {
   "cell_type": "raw",
   "metadata": {},
   "source": [
    "docker run -p 4000:80 --name <container_name> <image_name>:<tag_name>"
   ]
  },
  {
   "cell_type": "raw",
   "metadata": {},
   "source": [
    "The --name flag allows you to name the container if you like\n",
    "The -p instructs Docker to map the host's port 4000 to the container's port 80. \n",
    "\n",
    "which means ideally, whatever application we have buily run on port 80 (for node.js) but we mapped it with port 4000"
   ]
  },
  {
   "cell_type": "markdown",
   "metadata": {},
   "source": [
    "#### To start the container in the background"
   ]
  },
  {
   "cell_type": "markdown",
   "metadata": {},
   "source": [
    "docker run -p 4000:80 --name <container_name> -d <image_name>:<tag_name>"
   ]
  },
  {
   "cell_type": "raw",
   "metadata": {},
   "source": [
    "-d = in deamon mode"
   ]
  },
  {
   "cell_type": "markdown",
   "metadata": {},
   "source": [
    "#### Command to stop and remove the container:"
   ]
  },
  {
   "cell_type": "markdown",
   "metadata": {},
   "source": [
    "docker stop my-app && docker rm my-app"
   ]
  },
  {
   "cell_type": "markdown",
   "metadata": {},
   "source": [
    "#### Look at the logs by executing "
   ]
  },
  {
   "cell_type": "markdown",
   "metadata": {},
   "source": [
    "docker logs [container_id]"
   ]
  },
  {
   "cell_type": "raw",
   "metadata": {},
   "source": [
    "Tip: You don't have to write the entire container ID, as long as the initial characters uniquely identify the container. For example, you can execute docker logs 17b if the container ID is 17bcaca6f...."
   ]
  },
  {
   "cell_type": "raw",
   "metadata": {},
   "source": [
    "docker logs -f [container_id]"
   ]
  },
  {
   "cell_type": "raw",
   "metadata": {},
   "source": [
    "if you want to follow the log's output as the container is running, use the -f option."
   ]
  },
  {
   "cell_type": "markdown",
   "metadata": {},
   "source": [
    "#### To start an interactive Bash session inside the running container."
   ]
  },
  {
   "cell_type": "raw",
   "metadata": {},
   "source": [
    "docker exec -it [container_id] bash"
   ]
  },
  {
   "cell_type": "markdown",
   "metadata": {},
   "source": [
    "#### You can examine a container's metadata in Docker by using Docker inspect"
   ]
  },
  {
   "cell_type": "raw",
   "metadata": {},
   "source": [
    "docker inspect [container_id]"
   ]
  },
  {
   "cell_type": "markdown",
   "metadata": {},
   "source": [
    "#### Stop and remove all containers"
   ]
  },
  {
   "cell_type": "raw",
   "metadata": {},
   "source": [
    "docker stop $(docker ps -q) \n",
    "docker rm $(docker ps -aq)"
   ]
  },
  {
   "cell_type": "raw",
   "metadata": {},
   "source": [
    "docker ps -q (gives only running container ID)\n",
    "similarly, docker ps -aq gives only container ID (of all containers whatever be in state)"
   ]
  },
  {
   "cell_type": "markdown",
   "metadata": {},
   "source": [
    "#### Remove all images"
   ]
  },
  {
   "cell_type": "raw",
   "metadata": {},
   "source": [
    "docker rmi $(docker images -aq) "
   ]
  },
  {
   "cell_type": "raw",
   "metadata": {},
   "source": [
    "Note: You have to remove the child images before you remove the node image.  (example if we created one image using some base-image) So in docker images we have newly created image and base image as well.\n",
    "So before removing base-image, we need to remove child image."
   ]
  },
  {
   "cell_type": "markdown",
   "metadata": {},
   "source": [
    "#### Push your image to the repository you created"
   ]
  },
  {
   "cell_type": "raw",
   "metadata": {},
   "source": [
    "docker push yourhubusername/<tagged_image_name>"
   ]
  },
  {
   "cell_type": "raw",
   "metadata": {},
   "source": [
    "Pushing to Docker Hub is great, but it does have some disadvantages: Bandwidth - many ISPs have much lower upload bandwidth than download bandwidth.\n",
    "Solutions to these problems can be to save the Docker container locally as a a tar archive, and then you can easily load that to an image when needed."
   ]
  },
  {
   "cell_type": "raw",
   "metadata": {},
   "source": [
    "To save a Docker image after you have pulled, committed or built it you use the docker save command. For example, lets save a local copy of the verse_gapminder docker image we made:"
   ]
  },
  {
   "cell_type": "raw",
   "metadata": {},
   "source": [
    "docker save verse_gapminder > verse_gapminder.tar"
   ]
  },
  {
   "cell_type": "raw",
   "metadata": {},
   "source": [
    "If we want to load that Docker container from the archived tar file in the future, we can use the docker load command:"
   ]
  },
  {
   "cell_type": "raw",
   "metadata": {},
   "source": [
    "docker load --input verse_gapminder.tar"
   ]
  }
 ],
 "metadata": {
  "kernelspec": {
   "display_name": "Python 3",
   "language": "python",
   "name": "python3"
  },
  "language_info": {
   "codemirror_mode": {
    "name": "ipython",
    "version": 3
   },
   "file_extension": ".py",
   "mimetype": "text/x-python",
   "name": "python",
   "nbconvert_exporter": "python",
   "pygments_lexer": "ipython3",
   "version": "3.8.5"
  }
 },
 "nbformat": 4,
 "nbformat_minor": 4
}
